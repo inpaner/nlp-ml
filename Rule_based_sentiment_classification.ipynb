{
  "nbformat": 4,
  "nbformat_minor": 0,
  "metadata": {
    "colab": {
      "name": "Rule based sentiment classification.ipynb",
      "version": "0.3.2",
      "provenance": [],
      "collapsed_sections": [
        "k3zbrmNehpY-",
        "Ykp9uAbSh1on",
        "1Rg-wkFvuzkq",
        "GQfbZqpXvh5O",
        "8coBRADfv_HA"
      ],
      "include_colab_link": true
    },
    "kernelspec": {
      "name": "python3",
      "display_name": "Python 3"
    }
  },
  "cells": [
    {
      "cell_type": "markdown",
      "metadata": {
        "id": "view-in-github",
        "colab_type": "text"
      },
      "source": [
        "[View in Colaboratory](https://colab.research.google.com/github/inpaner/nlp-ml/blob/master/Rule_based_sentiment_classification.ipynb)"
      ]
    },
    {
      "metadata": {
        "id": "k3zbrmNehpY-",
        "colab_type": "text"
      },
      "cell_type": "markdown",
      "source": [
        "# Python Crash course"
      ]
    },
    {
      "metadata": {
        "id": "rXJiFm0shstQ",
        "colab_type": "code",
        "colab": {}
      },
      "cell_type": "code",
      "source": [
        "a = \"goodbye\"\n",
        "b = \"world\""
      ],
      "execution_count": 0,
      "outputs": []
    },
    {
      "metadata": {
        "id": "T_b1oJ8uuhmG",
        "colab_type": "code",
        "colab": {}
      },
      "cell_type": "code",
      "source": [
        "print(a + \" \" + b)"
      ],
      "execution_count": 0,
      "outputs": []
    },
    {
      "metadata": {
        "id": "4EWmp4RawiHd",
        "colab_type": "code",
        "colab": {}
      },
      "cell_type": "code",
      "source": [
        "result = 3 + (5 / 2 * 6 % 8)\n",
        "print('result:', result)\n",
        "print('result >= 0:', result >= 0)\n",
        "print('result != result:', result != result)"
      ],
      "execution_count": 0,
      "outputs": []
    },
    {
      "metadata": {
        "id": "m1JjmO-Mw-le",
        "colab_type": "code",
        "colab": {}
      },
      "cell_type": "code",
      "source": [
        "country = \"Germany\"\n",
        "is_old = False\n",
        "\n",
        "if country == \"Philippines\":\n",
        "  print(\"ano\")\n",
        "\n",
        "elif country == \"Spain\":\n",
        "  print(\"que\")\n",
        "\n",
        "elif country == \"Japan\":\n",
        "  print(\"nani\")\n",
        "\n",
        "else:\n",
        "  if is_old:\n",
        "    print(\"what\")\n",
        "  else:\n",
        "    print(\"what XD\")"
      ],
      "execution_count": 0,
      "outputs": []
    },
    {
      "metadata": {
        "id": "nynpLYnzuukv",
        "colab_type": "code",
        "colab": {}
      },
      "cell_type": "code",
      "source": [
        "names = [\"Hercules\", \"Gilgamesh\", \"Arthur\", \"Alexander\", \"Matthew\"]"
      ],
      "execution_count": 0,
      "outputs": []
    },
    {
      "metadata": {
        "id": "c9iCjHO4wL2Z",
        "colab_type": "code",
        "colab": {}
      },
      "cell_type": "code",
      "source": [
        "print(names[0])\n",
        "print(names[:2])\n",
        "print(names[2:])\n",
        "print(names[1:4])"
      ],
      "execution_count": 0,
      "outputs": []
    },
    {
      "metadata": {
        "id": "aB11X5uMy59x",
        "colab_type": "code",
        "colab": {}
      },
      "cell_type": "code",
      "source": [
        "new_names = []\n",
        "for name in names:\n",
        "  new_names.append(\"<\" + name.lower() + \">\")\n",
        "print(new_names)"
      ],
      "execution_count": 0,
      "outputs": []
    },
    {
      "metadata": {
        "id": "ufpFkaZr2fNt",
        "colab_type": "code",
        "colab": {}
      },
      "cell_type": "code",
      "source": [
        "new_names = [\"<\" + name.lower() + \">\" for name in names]\n",
        "print(new_names)"
      ],
      "execution_count": 0,
      "outputs": []
    },
    {
      "metadata": {
        "id": "hnyvPnS-zlUN",
        "colab_type": "code",
        "colab": {}
      },
      "cell_type": "code",
      "source": [
        "names.append(\"David\")\n",
        "sorted(names)\n",
        "print(names)\n",
        "\n",
        "names = sorted(names)\n",
        "print(names)"
      ],
      "execution_count": 0,
      "outputs": []
    },
    {
      "metadata": {
        "id": "ClCU7h4Y0cY9",
        "colab_type": "code",
        "colab": {}
      },
      "cell_type": "code",
      "source": [
        "joined = ','.join(names)\n",
        "print(joined)"
      ],
      "execution_count": 0,
      "outputs": []
    },
    {
      "metadata": {
        "id": "98vQ6kTN0s_F",
        "colab_type": "code",
        "colab": {}
      },
      "cell_type": "code",
      "source": [
        "separated = joined.split(',')\n",
        "print(separated)"
      ],
      "execution_count": 0,
      "outputs": []
    },
    {
      "metadata": {
        "id": "Ykp9uAbSh1on",
        "colab_type": "text"
      },
      "cell_type": "markdown",
      "source": [
        "# Load Data"
      ]
    },
    {
      "metadata": {
        "id": "1zgHUU63tvw9",
        "colab_type": "code",
        "colab": {}
      },
      "cell_type": "code",
      "source": [
        "import pickle\n",
        "from keras.datasets import imdb\n",
        "from keras.utils.data_utils import get_file"
      ],
      "execution_count": 0,
      "outputs": []
    },
    {
      "metadata": {
        "id": "adoMcY90tKu6",
        "colab_type": "code",
        "colab": {}
      },
      "cell_type": "code",
      "source": [
        "indexes = imdb.get_word_index()\n",
        "index_to_word = {index: word for word, index in indexes.items()}\n",
        "path = get_file('imdb_full.pkl',\n",
        "                origin='https://s3.amazonaws.com/text-datasets/imdb_full.pkl',\n",
        "                md5_hash='d091312047c43cf9e4e38fef92437263')\n",
        "f = open(path, 'rb')\n",
        "(__, __), (x, scores) = pickle.load(f)"
      ],
      "execution_count": 0,
      "outputs": []
    },
    {
      "metadata": {
        "id": "1loMt0cctN2m",
        "colab_type": "code",
        "colab": {}
      },
      "cell_type": "code",
      "source": [
        "texts = []\n",
        "for row in x:\n",
        "  text = ' '.join([index_to_word[index] for index in row])\n",
        "  texts.append(text)"
      ],
      "execution_count": 0,
      "outputs": []
    },
    {
      "metadata": {
        "id": "rYGi6IvQi7Wf",
        "colab_type": "code",
        "colab": {}
      },
      "cell_type": "code",
      "source": [
        "print(texts[0])\n",
        "print(scores[:5])\n",
        "print(len(scores))"
      ],
      "execution_count": 0,
      "outputs": []
    },
    {
      "metadata": {
        "id": "1Rg-wkFvuzkq",
        "colab_type": "text"
      },
      "cell_type": "markdown",
      "source": [
        "# Rule Based Classification"
      ]
    },
    {
      "metadata": {
        "id": "g8QNB9qlvoCW",
        "colab_type": "code",
        "colab": {}
      },
      "cell_type": "code",
      "source": [
        "def evaluate(texts, scores, classifier, verbose=False):\n",
        "  correct_sentiments = 0\n",
        "  for text, actual_score in zip(texts, scores):\n",
        "    predicted_score = classifier(text)\n",
        "    if int(predicted_score) == int(actual_score):\n",
        "      correct_sentiments += 1\n",
        "    if verbose:\n",
        "      print(f\"{text}\\nActual: {actual_score}\\tPredicted: {predicted_score}\\n\")\n",
        "  print(correct_sentiments / len(texts))"
      ],
      "execution_count": 0,
      "outputs": []
    },
    {
      "metadata": {
        "id": "GQfbZqpXvh5O",
        "colab_type": "text"
      },
      "cell_type": "markdown",
      "source": [
        "## Sample Rules"
      ]
    },
    {
      "metadata": {
        "id": "oD5QG1rIbekQ",
        "colab_type": "code",
        "colab": {}
      },
      "cell_type": "code",
      "source": [
        "# Sample Rules (as discussed)\n",
        "\n",
        "positive_words = [\"happy\", \"good\", \"love\", \"positive\"]\n",
        "negative_words = [\"sad\", \"bad\", \"sucks\", \"negative\", \"hate\"]\n",
        "\n",
        "def sample_classifier(text):\n",
        "  words = text.split()\n",
        "  \n",
        "  positive_count = 0\n",
        "  negative_count = 0\n",
        "  \n",
        "  for word in words:\n",
        "    if word in positive_words:\n",
        "      positive_count += 1\n",
        "    elif word in negative_words:\n",
        "      negative_count += 1\n",
        "      \n",
        "  if positive_count > negative_count:\n",
        "    return 1\n",
        "  \n",
        "  return 0\n",
        "  \n",
        "  \n",
        "text = \"I am so happy\"\n",
        "print(sample_get_sentiment(text))"
      ],
      "execution_count": 0,
      "outputs": []
    },
    {
      "metadata": {
        "id": "wmR4Dw9JoiKP",
        "colab_type": "code",
        "colab": {}
      },
      "cell_type": "code",
      "source": [
        "# Evaluate sample classifier on sample texts\n",
        "sample_texts = [\"I am happy\", \n",
        "              \"I am sad\",\n",
        "              \"I am jolly\",\n",
        "              \"I am depressed\", \n",
        "              \"I am not happy at all!\", \n",
        "              \"The vacuum cleaner really sucks all the dirt away!\",\n",
        "              \"Though people hate the president and say a lot of bad things about him, I see him in a positive light.\"]\n",
        "\n",
        "sample_scores = [1,0,1,0,0,1,1]\n",
        "\n",
        "evaluate(sample_texts, sample_scores, classifier=sample_classifier, verbose=True)"
      ],
      "execution_count": 0,
      "outputs": []
    },
    {
      "metadata": {
        "id": "CdwW9oYvwmVw",
        "colab_type": "code",
        "colab": {}
      },
      "cell_type": "code",
      "source": [
        "# Evaluate sample classifier on IMDB dataset\n",
        "evaluate(texts, scores, classifier=sample_classifier)"
      ],
      "execution_count": 0,
      "outputs": []
    },
    {
      "metadata": {
        "id": "8coBRADfv_HA",
        "colab_type": "text"
      },
      "cell_type": "markdown",
      "source": [
        "## Competition"
      ]
    },
    {
      "metadata": {
        "id": "u2vbFZpMrfn3",
        "colab_type": "code",
        "colab": {}
      },
      "cell_type": "code",
      "source": [
        "def competition_classifier(text):\n",
        "  # Score is either 1 (for positive) or 0 (for negative)\n",
        "  return 1"
      ],
      "execution_count": 0,
      "outputs": []
    },
    {
      "metadata": {
        "id": "fK6CWLUisnhv",
        "colab_type": "code",
        "colab": {}
      },
      "cell_type": "code",
      "source": [
        "# Evaluate on IMDB dataset\n",
        "evaluate(texts, scores, classifier=competition_classifier)"
      ],
      "execution_count": 0,
      "outputs": []
    },
    {
      "metadata": {
        "id": "eXykYw2Ls_r_",
        "colab_type": "code",
        "colab": {}
      },
      "cell_type": "code",
      "source": [
        ""
      ],
      "execution_count": 0,
      "outputs": []
    }
  ]
}