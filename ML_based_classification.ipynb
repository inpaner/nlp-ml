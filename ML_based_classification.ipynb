{
  "nbformat": 4,
  "nbformat_minor": 0,
  "metadata": {
    "colab": {
      "name": "ML-based classification.ipynb",
      "version": "0.3.2",
      "provenance": [],
      "collapsed_sections": [
        "7NS1zZY01ewJ"
      ],
      "include_colab_link": true
    },
    "kernelspec": {
      "name": "python3",
      "display_name": "Python 3"
    }
  },
  "cells": [
    {
      "cell_type": "markdown",
      "metadata": {
        "id": "view-in-github",
        "colab_type": "text"
      },
      "source": [
        "[View in Colaboratory](https://colab.research.google.com/github/inpaner/nlp-ml/blob/master/ML_based_classification.ipynb)"
      ]
    },
    {
      "metadata": {
        "id": "7NS1zZY01ewJ",
        "colab_type": "text"
      },
      "cell_type": "markdown",
      "source": [
        "# Load Data"
      ]
    },
    {
      "metadata": {
        "id": "NJPWSi7deh0i",
        "colab_type": "code",
        "colab": {}
      },
      "cell_type": "code",
      "source": [
        "import pickle\n",
        "from keras.datasets import imdb\n",
        "from keras.utils.data_utils import get_file\n",
        "indexes = imdb.get_word_index()\n",
        "index_arr = sorted(indexes, key=indexes.get)\n",
        "index_to_word = {index: word for word, index in indexes.items()}\n",
        "path = get_file('imdb_full.pkl',\n",
        "                origin='https://s3.amazonaws.com/text-datasets/imdb_full.pkl',\n",
        "                md5_hash='d091312047c43cf9e4e38fef92437263')\n",
        "f = open(path, 'rb')\n",
        "(x_train, scores_train), (x_test, scores_test) = pickle.load(f)"
      ],
      "execution_count": 0,
      "outputs": []
    },
    {
      "metadata": {
        "id": "-1awZy2le7gM",
        "colab_type": "code",
        "colab": {}
      },
      "cell_type": "code",
      "source": [
        "texts_train = []\n",
        "for row in x_train:\n",
        "  text = ' '.join([index_to_word[index] for index in row])\n",
        "  texts_train.append(text)"
      ],
      "execution_count": 0,
      "outputs": []
    },
    {
      "metadata": {
        "id": "a4Mom08Pgj2B",
        "colab_type": "code",
        "colab": {}
      },
      "cell_type": "code",
      "source": [
        "texts_test = []\n",
        "for row in x_test:\n",
        "  text = ' '.join([index_to_word[index] for index in row])\n",
        "  texts_test.append(text)"
      ],
      "execution_count": 0,
      "outputs": []
    },
    {
      "metadata": {
        "id": "tBNXUwLEfwea",
        "colab_type": "code",
        "colab": {}
      },
      "cell_type": "code",
      "source": [
        "print(len(texts_train), len(texts_test))\n",
        "print(texts_train[0])\n",
        "print(texts_test[0])"
      ],
      "execution_count": 0,
      "outputs": []
    },
    {
      "metadata": {
        "id": "MCn88cSR210y",
        "colab_type": "text"
      },
      "cell_type": "markdown",
      "source": [
        "# Multilayer perceptron"
      ]
    },
    {
      "metadata": {
        "id": "zP9yGpx8uJ2X",
        "colab_type": "code",
        "colab": {}
      },
      "cell_type": "code",
      "source": [
        "from sklearn.feature_extraction.text import CountVectorizer\n",
        "count_vect = CountVectorizer()\n",
        "sample_texts = [\n",
        "    \"hello world\",\n",
        "    \"hi world\",\n",
        "    \"world world\"]\n",
        "sample_counts = count_vect.fit_transform(sample_texts)\n",
        "print(sample_counts)"
      ],
      "execution_count": 0,
      "outputs": []
    },
    {
      "metadata": {
        "id": "pij8LGd8rJ5d",
        "colab_type": "code",
        "colab": {}
      },
      "cell_type": "code",
      "source": [
        "from sklearn.feature_extraction.text import CountVectorizer\n",
        "count_vect = CountVectorizer()\n",
        "counts_train = count_vect.fit_transform(texts_train)"
      ],
      "execution_count": 0,
      "outputs": []
    },
    {
      "metadata": {
        "id": "94Nu5mbs5AUT",
        "colab_type": "code",
        "colab": {}
      },
      "cell_type": "code",
      "source": [
        "print(counts_train)"
      ],
      "execution_count": 0,
      "outputs": []
    },
    {
      "metadata": {
        "id": "0Nhq2QF2fsZr",
        "colab_type": "code",
        "colab": {}
      },
      "cell_type": "code",
      "source": [
        "from sklearn.neural_network import MLPClassifier\n",
        "clf = MLPClassifier(hidden_layer_sizes=(10,)).fit(counts_train, scores_train)"
      ],
      "execution_count": 0,
      "outputs": []
    },
    {
      "metadata": {
        "id": "YHNiXlrCvbH5",
        "colab_type": "code",
        "colab": {}
      },
      "cell_type": "code",
      "source": [
        "from sklearn.pipeline import Pipeline\n",
        "text_clf = Pipeline([('vect', CountVectorizer(max_features=500)),\n",
        "                      ('clf', MLPClassifier(hidden_layer_sizes=(100, 100)))])\n",
        "text_clf.fit(texts_train, scores_train)"
      ],
      "execution_count": 0,
      "outputs": []
    },
    {
      "metadata": {
        "id": "ySsNKeeJv4yG",
        "colab_type": "code",
        "colab": {}
      },
      "cell_type": "code",
      "source": [
        "predicted_scores = text_clf.predict(texts_test)"
      ],
      "execution_count": 0,
      "outputs": []
    },
    {
      "metadata": {
        "id": "ZdcHwiD-5EIt",
        "colab_type": "code",
        "colab": {}
      },
      "cell_type": "code",
      "source": [
        "print(predicted_scores)"
      ],
      "execution_count": 0,
      "outputs": []
    },
    {
      "metadata": {
        "id": "KTGaRnPiwEIh",
        "colab_type": "code",
        "colab": {}
      },
      "cell_type": "code",
      "source": [
        "# Evaluate\n",
        "correct_sentiments = 0\n",
        "for predicted_score, actual_score in zip(predicted_scores, scores_test):\n",
        "  if int(predicted_score) == int(actual_score):\n",
        "    correct_sentiments += 1\n",
        "print(correct_sentiments / len(predicted_scores))"
      ],
      "execution_count": 0,
      "outputs": []
    },
    {
      "metadata": {
        "id": "1CpyZIIn5MEf",
        "colab_type": "code",
        "colab": {}
      },
      "cell_type": "code",
      "source": [
        ""
      ],
      "execution_count": 0,
      "outputs": []
    }
  ]
}